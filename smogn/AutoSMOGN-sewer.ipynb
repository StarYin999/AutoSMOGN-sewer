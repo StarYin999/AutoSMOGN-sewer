{
 "cells": [
  {
   "cell_type": "code",
   "execution_count": null,
   "metadata": {},
   "outputs": [],
   "source": [
    "import pandas as pd\n",
    "import smogn\n",
    "import lightgbm as lgb\n",
    "from sklearn.model_selection import train_test_split\n",
    "from sklearn.metrics import mean_squared_error\n",
    "\n",
    "def find_optimal_k(file_path, y_column, rg_mtrx):\n",
    "    # 存储最佳 k 值和相应的性能指标\n",
    "    best_k = None\n",
    "    best_performance = float('inf')\n",
    "\n",
    "    # 遍历 k 的范围\n",
    "    for k in range(1, 11):\n",
    "        processed_data = process_data(file_path, y_column, k, rg_mtrx)\n",
    "\n",
    "        # 分割数据集为训练集和测试集\n",
    "        X = processed_data.drop(y_column, axis=1)\n",
    "        y = processed_data[y_column]\n",
    "        X_train, X_test, y_train, y_test = train_test_split(X, y, test_size=0.2, random_state=42)\n",
    "\n",
    "        # 创建和训练 LightGBM 模型\n",
    "        lgbm_model = lgb.LGBMRegressor()\n",
    "        lgbm_model.fit(X_train, y_train)\n",
    "\n",
    "        # 进行预测并评估模型\n",
    "        y_pred = lgbm_model.predict(X_test)\n",
    "        performance = mean_squared_error(y_test, y_pred)\n",
    "\n",
    "        # 检查是否有更好的性能，并记录最佳 k\n",
    "        if performance < best_performance:\n",
    "            best_k = k\n",
    "            best_performance = performance\n",
    "\n",
    "    # 返回最佳 k 值和相应的性能指标\n",
    "    return best_k, best_performance\n",
    "\n",
    "def process_data(file_path, y_column, k_value, rg_mtrx):\n",
    "    train = pd.read_csv(file_path)\n",
    "    data_com = smogn.smoter(\n",
    "        data = train,\n",
    "        y = y_column,\n",
    "        k = k_value,\n",
    "        pert = 0.1,\n",
    "        samp_method = 'balance',\n",
    "        drop_na_col = True,\n",
    "        drop_na_row = True,\n",
    "        replace = False,\n",
    "        rel_thres = 0.10,\n",
    "        rel_method = 'manual',\n",
    "        rel_ctrl_pts_rg = rg_mtrx\n",
    "    )\n",
    "    return data_com\n",
    "\n",
    "# 使用示例\n",
    "file_path = \"path/to/your/data.csv\"\n",
    "y_column = '预测列名'\n",
    "rg_mtrx = [[50, 1, 0], [45, 1, 0], [40, 1, 0], ...]  # 根据您的需求定义\n",
    "\n",
    "best_k, best_performance = find_optimal_k(file_path, y_column, rg_mtrx)\n",
    "print(f\"Best k: {best_k} \")"
   ]
  }
 ],
 "metadata": {
  "kernelspec": {
   "display_name": "smogn",
   "language": "python",
   "name": "myenv"
  },
  "language_info": {
   "codemirror_mode": {
    "name": "ipython",
    "version": 3.0
   },
   "file_extension": ".py",
   "mimetype": "text/x-python",
   "name": "python",
   "nbconvert_exporter": "python",
   "pygments_lexer": "ipython3",
   "version": "3.8.0"
  },
  "nbTranslate": {
   "displayLangs": [
    "*"
   ],
   "hotkey": "alt-t",
   "langInMainMenu": true,
   "sourceLang": "en",
   "targetLang": "fr",
   "useGoogleTranslate": true
  }
 },
 "nbformat": 4,
 "nbformat_minor": 5
}